{
 "cells": [
  {
   "cell_type": "code",
   "execution_count": 5,
   "id": "f2580f8b-2d3d-4962-bdee-0e01ea413c1d",
   "metadata": {},
   "outputs": [],
   "source": [
    "import pandas as pd\n",
    "\n",
    "# Leer el archivo original\n",
    "df = pd.read_csv('dataset_modficado.csv')\n",
    "# Guardar en el formato para visualización\n",
    "df.to_csv('dataset_solarmax.csv', sep=';', decimal=',', index=False)\n"
   ]
  },
  {
   "cell_type": "code",
   "execution_count": null,
   "id": "27f1e5f0-4981-4a9d-9a4e-074a13923015",
   "metadata": {},
   "outputs": [],
   "source": []
  }
 ],
 "metadata": {
  "kernelspec": {
   "display_name": "Python 3 (ipykernel)",
   "language": "python",
   "name": "python3"
  },
  "language_info": {
   "codemirror_mode": {
    "name": "ipython",
    "version": 3
   },
   "file_extension": ".py",
   "mimetype": "text/x-python",
   "name": "python",
   "nbconvert_exporter": "python",
   "pygments_lexer": "ipython3",
   "version": "3.12.7"
  }
 },
 "nbformat": 4,
 "nbformat_minor": 5
}
