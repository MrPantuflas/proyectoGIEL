{
 "cells": [
  {
   "cell_type": "code",
   "execution_count": 3,
   "id": "d8b6fa84-1cbc-426a-96d8-d9050299519e",
   "metadata": {},
   "outputs": [
    {
     "name": "stdout",
     "output_type": "stream",
     "text": [
      "Resultados guardados en: dataset_modificadov2.csv\n"
     ]
    }
   ],
   "source": [
    "import pandas as pd\n",
    "import numpy as np\n",
    "\n",
    "def calculate_evaporation(dataset_path, output_path):\n",
    "    # Cargar el dataset\n",
    "    data = pd.read_csv(dataset_path)\n",
    "    \n",
    "    # Constantes\n",
    "    k_dalton = 0.1  # Constante empírica para Dalton\n",
    "    a_empirical, b_empirical, c_empirical = 0.05, 0.02, 0.1  # Coeficientes empíricos\n",
    "    gamma_penman = 0.066  # Constante psicrométrica (aproximada)\n",
    "    R_n = 0.8  # Radiación neta promedio, aproximada en mm/día\n",
    "    relative_humidity = 0.7  # Asumir humedad relativa del 70%\n",
    "\n",
    "    # Convertir temperatura a Kelvin y calcular presión de vapor saturado (e_s)\n",
    "    data['Temp_K'] = data['TempMedia'] + 273.15\n",
    "    data['e_s'] = 6.11 * np.exp((17.27 * data['TempMedia']) / (data['TempMedia'] + 237.3))\n",
    "\n",
    "    # Calcular presión de vapor actual (e_a) con humedad relativa asumida\n",
    "    data['e_a'] = data['e_s'] * relative_humidity\n",
    "\n",
    "    # Velocidad del viento\n",
    "    data['Wind'] = data['FMedia']\n",
    "\n",
    "    # Evaporación de Dalton\n",
    "    data['Evap_Dalton_Calc'] = k_dalton * data['Wind'] * (data['e_s'] - data['e_a'])\n",
    "\n",
    "    # Evaporación de Penman\n",
    "    data['Evap_Penman_Calc'] = R_n + gamma_penman * data['Wind'] * (data['e_s'] - data['e_a'])\n",
    "\n",
    "    # Evaporación empírica\n",
    "    data['Evap_Empirical_Calc'] = (\n",
    "        a_empirical * data['TempMedia'] +\n",
    "        b_empirical * data['Wind'] +\n",
    "        c_empirical\n",
    "    )\n",
    "\n",
    "    # Guardar resultados\n",
    "    data.to_csv(output_path, index=False)\n",
    "    print(f\"Resultados guardados en: {output_path}\")\n",
    "\n",
    "# Uso:\n",
    "# Ruta al archivo de entrada y salida\n",
    "input_file = \"ruta_a_tu_dataset.csv\"\n",
    "output_file = \"ruta_a_tu_salida.csv\"\n",
    "\n",
    "calculate_evaporation(\"dataset_modificado.csv\", \"dataset_modificadov2.csv\")"
   ]
  },
  {
   "cell_type": "code",
   "execution_count": null,
   "id": "dd5cc4f9-6727-4dc7-a591-da63554a2c38",
   "metadata": {},
   "outputs": [],
   "source": []
  },
  {
   "cell_type": "code",
   "execution_count": null,
   "id": "64c8f814-7eba-464d-b530-cacc34a40b5b",
   "metadata": {},
   "outputs": [],
   "source": []
  }
 ],
 "metadata": {
  "kernelspec": {
   "display_name": "Python 3 (ipykernel)",
   "language": "python",
   "name": "python3"
  },
  "language_info": {
   "codemirror_mode": {
    "name": "ipython",
    "version": 3
   },
   "file_extension": ".py",
   "mimetype": "text/x-python",
   "name": "python",
   "nbconvert_exporter": "python",
   "pygments_lexer": "ipython3",
   "version": "3.12.7"
  }
 },
 "nbformat": 4,
 "nbformat_minor": 5
}
